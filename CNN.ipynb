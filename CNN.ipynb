{
 "cells": [
  {
   "cell_type": "code",
   "execution_count": 2,
   "id": "6be5f731",
   "metadata": {},
   "outputs": [
    {
     "name": "stdout",
     "output_type": "stream",
     "text": [
      "GPU is available\n"
     ]
    }
   ],
   "source": [
    "import pandas as pd\n",
    "import numpy as np\n",
    "import os\n",
    "import matplotlib.pyplot as plt\n",
    "import seaborn as sns\n",
    "import warnings\n",
    "import random\n",
    "from tqdm.notebook import tqdm\n",
    "%matplotlib inline\n",
    "\n",
    "import cv2\n",
    "import tensorflow as tf\n",
    "from tensorflow import keras\n",
    "from tensorflow.keras.preprocessing.image import load_img\n",
    "from keras.preprocessing.image import ImageDataGenerator\n",
    "from keras.models import Sequential\n",
    "from keras.layers import Dense, Conv2D, Dropout, Flatten, MaxPooling2D\n",
    "\n",
    "gpu = len(tf.config.list_physical_devices('GPU'))>0\n",
    "print(\"GPU is\", \"available\" if gpu else \"NOT AVAILABLE\")"
   ]
  },
  {
   "cell_type": "code",
   "execution_count": 3,
   "id": "f7351875",
   "metadata": {},
   "outputs": [],
   "source": [
    "## Load the dateset\n",
    "TRAIN_DIR = './FER2013/train/'\n",
    "TEST_DIR = './FER2013/test/'"
   ]
  },
  {
   "cell_type": "code",
   "execution_count": 4,
   "id": "19dfb2c9",
   "metadata": {},
   "outputs": [
    {
     "name": "stdout",
     "output_type": "stream",
     "text": [
      "Found 28709 images belonging to 7 classes.\n",
      "Found 7178 images belonging to 7 classes.\n"
     ]
    }
   ],
   "source": [
    "# Initialize image data generator with rescaling\n",
    "train_data_gen = ImageDataGenerator(    \n",
    "    rescale=1./255,\n",
    "    rotation_range=10,\n",
    "    zoom_range=0.3,\n",
    ")\n",
    "\n",
    "validation_data_gen = ImageDataGenerator(rescale=1./255)\n",
    "\n",
    "# Preprocess all train images\n",
    "train_generator = train_data_gen.flow_from_directory(\n",
    "        TRAIN_DIR,\n",
    "        target_size=(48, 48),\n",
    "        batch_size=64,\n",
    "        color_mode=\"grayscale\",\n",
    "        class_mode='categorical',\n",
    "        shuffle=True)\n",
    "\n",
    "# Preprocess all validation images\n",
    "validation_generator = validation_data_gen.flow_from_directory(\n",
    "        TEST_DIR,\n",
    "        target_size=(48, 48),\n",
    "        batch_size=64,\n",
    "        color_mode=\"grayscale\",\n",
    "        class_mode='categorical',\n",
    "        shuffle=True)"
   ]
  },
  {
   "cell_type": "code",
   "execution_count": null,
   "id": "772490c8",
   "metadata": {},
   "outputs": [],
   "source": [
    "# train_X = np.concatenate([train_generator.next()[0] for i in range(train_generator.__len__())])\n",
    "# train_Y = np.concatenate([train_generator.next()[1] for i in range(train_generator.__len__())])\n",
    "# val_X = np.concatenate([validation_generator.next()[0] for i in range(validation_generator.__len__())])\n",
    "# val_Y = np.concatenate([validation_generator.next()[1] for i in range(validation_generator.__len__())])"
   ]
  },
  {
   "cell_type": "code",
   "execution_count": 18,
   "id": "40f05716",
   "metadata": {},
   "outputs": [],
   "source": [
    "train_X = np.empty([28709, 48, 48, 1])\n",
    "train_Y = np.empty([28709, 7])\n",
    "start = 0\n",
    "end = 0\n",
    "for i in range(0, 449):\n",
    "    image, label = train_generator.next()\n",
    "    end = end + image.shape[0]\n",
    "    train_X[start:end, :, :, :] = image\n",
    "    train_Y[start:end, :] = label\n",
    "    start = start + image.shape[0]"
   ]
  },
  {
   "cell_type": "code",
   "execution_count": 16,
   "id": "dc86c234",
   "metadata": {},
   "outputs": [],
   "source": [
    "val_X = np.empty([7178, 48, 48, 1])\n",
    "val_Y = np.empty([7178, 7])\n",
    "start = 0\n",
    "end = 0\n",
    "for i in range(0, 113):\n",
    "    image, label = validation_generator.next()\n",
    "    end = end + image.shape[0]\n",
    "    val_X[start:end, :, :, :] = image\n",
    "    val_Y[start:end, :] = label\n",
    "    start = start + image.shape[0]"
   ]
  },
  {
   "cell_type": "markdown",
   "id": "ad8d0c48",
   "metadata": {},
   "source": [
    "### CNN: Model 1"
   ]
  },
  {
   "cell_type": "code",
   "execution_count": null,
   "id": "27b663b2",
   "metadata": {},
   "outputs": [],
   "source": [
    "# create model structure\n",
    "simple_model = Sequential([\n",
    "    #block-1\n",
    "    Conv2D(32, kernel_size=(3, 3), activation='relu', input_shape=(48, 48, 1)),\n",
    "    Conv2D(32, kernel_size=(3, 3), activation='relu'),\n",
    "    MaxPooling2D(pool_size=(2, 2)),\n",
    "    Dropout(0.2),\n",
    "    \n",
    "    #block-2\n",
    "    Flatten(),\n",
    "    Dense(512, activation='relu'),\n",
    "    Dropout(0.2),\n",
    "    \n",
    "    #block-3\n",
    "    Dense(7, activation='softmax')\n",
    "])\n",
    "\n",
    "simple_model.compile(optimizer=tf.keras.optimizers.Adam(\n",
    "    learning_rate=0.0001,epsilon=1e-06),\n",
    "              loss=\"categorical_crossentropy\",\n",
    "              metrics=['accuracy'])\n",
    "\n",
    "simple_model.summary()\n",
    "# Train the neural network/model\n",
    "simple_model_info = simple_model.fit(\n",
    "        train_generator,\n",
    "        epochs=10,\n",
    "        validation_data=validation_generator)"
   ]
  },
  {
   "cell_type": "code",
   "execution_count": null,
   "id": "62a35c20",
   "metadata": {},
   "outputs": [],
   "source": [
    "# plot accuracy\n",
    "plt.plot(simple_model_info.history['accuracy'])\n",
    "plt.plot(simple_model_info.history['val_accuracy'])\n",
    "plt.title('Model Accuracy')\n",
    "plt.ylabel('accuracy')\n",
    "plt.xlabel('epoch')\n",
    "plt.legend(['train', 'val'], loc='upper left')\n",
    "plt.show()"
   ]
  },
  {
   "cell_type": "code",
   "execution_count": null,
   "id": "925e9f3c",
   "metadata": {},
   "outputs": [],
   "source": [
    "# plot loss\n",
    "plt.plot(simple_model_info.history['loss'])\n",
    "plt.plot(simple_model_info.history['val_loss'])\n",
    "plt.title('Model Loss')\n",
    "plt.ylabel('loss')\n",
    "plt.xlabel('epoch')\n",
    "plt.legend(['train', 'val'], loc='upper left')\n",
    "plt.show()"
   ]
  },
  {
   "cell_type": "markdown",
   "id": "2ba51fe4",
   "metadata": {},
   "source": [
    "### CNN: Model 2"
   ]
  },
  {
   "cell_type": "code",
   "execution_count": null,
   "id": "ae80ca81",
   "metadata": {},
   "outputs": [],
   "source": [
    "# create model structure\n",
    "emotion_model = Sequential([\n",
    "    #block-1\n",
    "    Conv2D(32, kernel_size=(3, 3), activation='relu', input_shape=(48, 48, 1)),\n",
    "    Conv2D(32, kernel_size=(3, 3), activation='relu'),\n",
    "    MaxPooling2D(pool_size=(2, 2)),\n",
    "\n",
    "    #block-2\n",
    "    Conv2D(64, kernel_size=(3, 3), activation='relu'),\n",
    "    Conv2D(64, kernel_size=(3, 3), activation='relu'),\n",
    "    MaxPooling2D(pool_size=(2, 2)),\n",
    "    \n",
    "    #block-3\n",
    "    Conv2D(128, kernel_size=(3, 3), activation='relu'),\n",
    "    Conv2D(128, kernel_size=(3, 3), activation='relu'),\n",
    "    MaxPooling2D(pool_size=(2, 2)),\n",
    "    Dropout(0.2),\n",
    "    \n",
    "    #block-4\n",
    "    Flatten(),\n",
    "    Dense(512, activation='relu'),\n",
    "    Dropout(0.2),\n",
    "    \n",
    "    #block-5\n",
    "    Dense(512, activation='relu'),   \n",
    "    Dropout(0.2),\n",
    "    Dense(7, activation='softmax')\n",
    "])\n",
    "\n",
    "emotion_model.compile(optimizer=tf.keras.optimizers.Adam(\n",
    "    learning_rate=0.0001,epsilon=1e-06),\n",
    "              loss=\"categorical_crossentropy\",\n",
    "              metrics=['accuracy'])\n",
    "\n",
    "emotion_model.summary()\n",
    "\n",
    "# Train the neural network/model\n",
    "emotion_model_info = emotion_model.fit(\n",
    "        train_generator,\n",
    "        steps_per_epoch=28709 // 64,\n",
    "        epochs=60,\n",
    "        validation_data=validation_generator,\n",
    "        validation_steps=7178 // 64)"
   ]
  },
  {
   "cell_type": "code",
   "execution_count": null,
   "id": "dde65652",
   "metadata": {},
   "outputs": [],
   "source": [
    "# plot accuracy\n",
    "plt.plot(emotion_model_info.history['accuracy'])\n",
    "plt.plot(emotion_model_info.history['val_accuracy'])\n",
    "plt.title('Model Accuracy')\n",
    "plt.ylabel('accuracy')\n",
    "plt.xlabel('epoch')\n",
    "plt.legend(['train', 'val'], loc='upper left')\n",
    "plt.show()"
   ]
  },
  {
   "cell_type": "code",
   "execution_count": null,
   "id": "0f9ba0cd",
   "metadata": {},
   "outputs": [],
   "source": [
    "# plot loss\n",
    "plt.plot(emotion_model_info.history['loss'])\n",
    "plt.plot(emotion_model_info.history['val_loss'])\n",
    "plt.title('Model Loss')\n",
    "plt.ylabel('loss')\n",
    "plt.xlabel('epoch')\n",
    "plt.legend(['train', 'val'], loc='upper left')\n",
    "plt.show()"
   ]
  },
  {
   "cell_type": "code",
   "execution_count": null,
   "id": "25a75b2c",
   "metadata": {},
   "outputs": [],
   "source": [
    "np.random.seed(100)\n",
    "images, labels = next(validation_generator)\n",
    "test_loss, test_acc = emotion_model.evaluate(images, labels, verbose=2)"
   ]
  },
  {
   "cell_type": "code",
   "execution_count": null,
   "id": "a25c57a8",
   "metadata": {},
   "outputs": [],
   "source": [
    "emotion_model.save('my_cnn_model.h5')"
   ]
  },
  {
   "cell_type": "code",
   "execution_count": null,
   "id": "6f9f29a2",
   "metadata": {},
   "outputs": [],
   "source": []
  }
 ],
 "metadata": {
  "kernelspec": {
   "display_name": "Python 3 (ipykernel)",
   "language": "python",
   "name": "python3"
  },
  "language_info": {
   "codemirror_mode": {
    "name": "ipython",
    "version": 3
   },
   "file_extension": ".py",
   "mimetype": "text/x-python",
   "name": "python",
   "nbconvert_exporter": "python",
   "pygments_lexer": "ipython3",
   "version": "3.9.12"
  }
 },
 "nbformat": 4,
 "nbformat_minor": 5
}
